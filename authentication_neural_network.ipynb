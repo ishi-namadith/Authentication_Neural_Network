{
  "nbformat": 4,
  "nbformat_minor": 0,
  "metadata": {
    "colab": {
      "provenance": []
    },
    "kernelspec": {
      "name": "python3",
      "display_name": "Python 3"
    },
    "language_info": {
      "name": "python"
    }
  },
  "cells": [
    {
      "cell_type": "code",
      "execution_count": null,
      "metadata": {
        "id": "SIGgyzPZd1oA"
      },
      "outputs": [],
      "source": [
        "#imports\n",
        "import pandas as pd\n",
        "from tensorflow.keras.optimizers import Adam\n",
        "import numpy as np\n",
        "import tensorflow as tf\n",
        "from sklearn.model_selection import train_test_split\n",
        "import matplotlib.pyplot as plt\n",
        "from tensorflow import keras\n",
        "from tensorflow.keras.callbacks import EarlyStopping\n",
        "from tensorflow.keras.models import Sequential\n",
        "from google.colab import files\n",
        "from sklearn.preprocessing import StandardScaler\n",
        "from tensorflow.keras.layers import Input, Dense, Concatenate, Flatten, GlobalAveragePooling1D\n",
        "from tensorflow.keras.models import Model"
      ]
    },
    {
      "cell_type": "code",
      "source": [
        "uploaded = files.upload()"
      ],
      "metadata": {
        "colab": {
          "base_uri": "https://localhost:8080/",
          "height": 1000
        },
        "id": "604LOozAeccG",
        "outputId": "76770bb2-6537-4894-d6f7-88234736d7ce"
      },
      "execution_count": null,
      "outputs": [
        {
          "output_type": "display_data",
          "data": {
            "text/plain": [
              "<IPython.core.display.HTML object>"
            ],
            "text/html": [
              "\n",
              "     <input type=\"file\" id=\"files-4b9c78bf-3ea0-43c4-9b1d-f87211353906\" name=\"files[]\" multiple disabled\n",
              "        style=\"border:none\" />\n",
              "     <output id=\"result-4b9c78bf-3ea0-43c4-9b1d-f87211353906\">\n",
              "      Upload widget is only available when the cell has been executed in the\n",
              "      current browser session. Please rerun this cell to enable.\n",
              "      </output>\n",
              "      <script>// Copyright 2017 Google LLC\n",
              "//\n",
              "// Licensed under the Apache License, Version 2.0 (the \"License\");\n",
              "// you may not use this file except in compliance with the License.\n",
              "// You may obtain a copy of the License at\n",
              "//\n",
              "//      http://www.apache.org/licenses/LICENSE-2.0\n",
              "//\n",
              "// Unless required by applicable law or agreed to in writing, software\n",
              "// distributed under the License is distributed on an \"AS IS\" BASIS,\n",
              "// WITHOUT WARRANTIES OR CONDITIONS OF ANY KIND, either express or implied.\n",
              "// See the License for the specific language governing permissions and\n",
              "// limitations under the License.\n",
              "\n",
              "/**\n",
              " * @fileoverview Helpers for google.colab Python module.\n",
              " */\n",
              "(function(scope) {\n",
              "function span(text, styleAttributes = {}) {\n",
              "  const element = document.createElement('span');\n",
              "  element.textContent = text;\n",
              "  for (const key of Object.keys(styleAttributes)) {\n",
              "    element.style[key] = styleAttributes[key];\n",
              "  }\n",
              "  return element;\n",
              "}\n",
              "\n",
              "// Max number of bytes which will be uploaded at a time.\n",
              "const MAX_PAYLOAD_SIZE = 100 * 1024;\n",
              "\n",
              "function _uploadFiles(inputId, outputId) {\n",
              "  const steps = uploadFilesStep(inputId, outputId);\n",
              "  const outputElement = document.getElementById(outputId);\n",
              "  // Cache steps on the outputElement to make it available for the next call\n",
              "  // to uploadFilesContinue from Python.\n",
              "  outputElement.steps = steps;\n",
              "\n",
              "  return _uploadFilesContinue(outputId);\n",
              "}\n",
              "\n",
              "// This is roughly an async generator (not supported in the browser yet),\n",
              "// where there are multiple asynchronous steps and the Python side is going\n",
              "// to poll for completion of each step.\n",
              "// This uses a Promise to block the python side on completion of each step,\n",
              "// then passes the result of the previous step as the input to the next step.\n",
              "function _uploadFilesContinue(outputId) {\n",
              "  const outputElement = document.getElementById(outputId);\n",
              "  const steps = outputElement.steps;\n",
              "\n",
              "  const next = steps.next(outputElement.lastPromiseValue);\n",
              "  return Promise.resolve(next.value.promise).then((value) => {\n",
              "    // Cache the last promise value to make it available to the next\n",
              "    // step of the generator.\n",
              "    outputElement.lastPromiseValue = value;\n",
              "    return next.value.response;\n",
              "  });\n",
              "}\n",
              "\n",
              "/**\n",
              " * Generator function which is called between each async step of the upload\n",
              " * process.\n",
              " * @param {string} inputId Element ID of the input file picker element.\n",
              " * @param {string} outputId Element ID of the output display.\n",
              " * @return {!Iterable<!Object>} Iterable of next steps.\n",
              " */\n",
              "function* uploadFilesStep(inputId, outputId) {\n",
              "  const inputElement = document.getElementById(inputId);\n",
              "  inputElement.disabled = false;\n",
              "\n",
              "  const outputElement = document.getElementById(outputId);\n",
              "  outputElement.innerHTML = '';\n",
              "\n",
              "  const pickedPromise = new Promise((resolve) => {\n",
              "    inputElement.addEventListener('change', (e) => {\n",
              "      resolve(e.target.files);\n",
              "    });\n",
              "  });\n",
              "\n",
              "  const cancel = document.createElement('button');\n",
              "  inputElement.parentElement.appendChild(cancel);\n",
              "  cancel.textContent = 'Cancel upload';\n",
              "  const cancelPromise = new Promise((resolve) => {\n",
              "    cancel.onclick = () => {\n",
              "      resolve(null);\n",
              "    };\n",
              "  });\n",
              "\n",
              "  // Wait for the user to pick the files.\n",
              "  const files = yield {\n",
              "    promise: Promise.race([pickedPromise, cancelPromise]),\n",
              "    response: {\n",
              "      action: 'starting',\n",
              "    }\n",
              "  };\n",
              "\n",
              "  cancel.remove();\n",
              "\n",
              "  // Disable the input element since further picks are not allowed.\n",
              "  inputElement.disabled = true;\n",
              "\n",
              "  if (!files) {\n",
              "    return {\n",
              "      response: {\n",
              "        action: 'complete',\n",
              "      }\n",
              "    };\n",
              "  }\n",
              "\n",
              "  for (const file of files) {\n",
              "    const li = document.createElement('li');\n",
              "    li.append(span(file.name, {fontWeight: 'bold'}));\n",
              "    li.append(span(\n",
              "        `(${file.type || 'n/a'}) - ${file.size} bytes, ` +\n",
              "        `last modified: ${\n",
              "            file.lastModifiedDate ? file.lastModifiedDate.toLocaleDateString() :\n",
              "                                    'n/a'} - `));\n",
              "    const percent = span('0% done');\n",
              "    li.appendChild(percent);\n",
              "\n",
              "    outputElement.appendChild(li);\n",
              "\n",
              "    const fileDataPromise = new Promise((resolve) => {\n",
              "      const reader = new FileReader();\n",
              "      reader.onload = (e) => {\n",
              "        resolve(e.target.result);\n",
              "      };\n",
              "      reader.readAsArrayBuffer(file);\n",
              "    });\n",
              "    // Wait for the data to be ready.\n",
              "    let fileData = yield {\n",
              "      promise: fileDataPromise,\n",
              "      response: {\n",
              "        action: 'continue',\n",
              "      }\n",
              "    };\n",
              "\n",
              "    // Use a chunked sending to avoid message size limits. See b/62115660.\n",
              "    let position = 0;\n",
              "    do {\n",
              "      const length = Math.min(fileData.byteLength - position, MAX_PAYLOAD_SIZE);\n",
              "      const chunk = new Uint8Array(fileData, position, length);\n",
              "      position += length;\n",
              "\n",
              "      const base64 = btoa(String.fromCharCode.apply(null, chunk));\n",
              "      yield {\n",
              "        response: {\n",
              "          action: 'append',\n",
              "          file: file.name,\n",
              "          data: base64,\n",
              "        },\n",
              "      };\n",
              "\n",
              "      let percentDone = fileData.byteLength === 0 ?\n",
              "          100 :\n",
              "          Math.round((position / fileData.byteLength) * 100);\n",
              "      percent.textContent = `${percentDone}% done`;\n",
              "\n",
              "    } while (position < fileData.byteLength);\n",
              "  }\n",
              "\n",
              "  // All done.\n",
              "  yield {\n",
              "    response: {\n",
              "      action: 'complete',\n",
              "    }\n",
              "  };\n",
              "}\n",
              "\n",
              "scope.google = scope.google || {};\n",
              "scope.google.colab = scope.google.colab || {};\n",
              "scope.google.colab._files = {\n",
              "  _uploadFiles,\n",
              "  _uploadFilesContinue,\n",
              "};\n",
              "})(self);\n",
              "</script> "
            ]
          },
          "metadata": {}
        },
        {
          "output_type": "stream",
          "name": "stdout",
          "text": [
            "Saving U06_Acc_TimeD_FDay.csv to U06_Acc_TimeD_FDay.csv\n",
            "Saving U06_Acc_TimeD_FreqD_FDay.csv to U06_Acc_TimeD_FreqD_FDay.csv\n",
            "Saving U06_Acc_TimeD_FreqD_MDay.csv to U06_Acc_TimeD_FreqD_MDay.csv\n",
            "Saving U06_Acc_TimeD_MDay.csv to U06_Acc_TimeD_MDay.csv\n",
            "Saving U07_Acc_FreqD_FDay.csv to U07_Acc_FreqD_FDay.csv\n",
            "Saving U07_Acc_FreqD_MDay.csv to U07_Acc_FreqD_MDay.csv\n",
            "Saving U07_Acc_TimeD_FDay.csv to U07_Acc_TimeD_FDay.csv\n",
            "Saving U07_Acc_TimeD_FreqD_FDay.csv to U07_Acc_TimeD_FreqD_FDay.csv\n",
            "Saving U07_Acc_TimeD_FreqD_MDay.csv to U07_Acc_TimeD_FreqD_MDay.csv\n",
            "Saving U07_Acc_TimeD_MDay.csv to U07_Acc_TimeD_MDay.csv\n",
            "Saving U08_Acc_FreqD_FDay.csv to U08_Acc_FreqD_FDay.csv\n",
            "Saving U08_Acc_FreqD_MDay.csv to U08_Acc_FreqD_MDay.csv\n",
            "Saving U08_Acc_TimeD_FDay.csv to U08_Acc_TimeD_FDay.csv\n",
            "Saving U08_Acc_TimeD_FreqD_FDay.csv to U08_Acc_TimeD_FreqD_FDay.csv\n",
            "Saving U08_Acc_TimeD_FreqD_MDay.csv to U08_Acc_TimeD_FreqD_MDay.csv\n",
            "Saving U08_Acc_TimeD_MDay.csv to U08_Acc_TimeD_MDay.csv\n",
            "Saving U09_Acc_FreqD_FDay.csv to U09_Acc_FreqD_FDay.csv\n",
            "Saving U09_Acc_FreqD_MDay.csv to U09_Acc_FreqD_MDay.csv\n",
            "Saving U09_Acc_TimeD_FDay.csv to U09_Acc_TimeD_FDay.csv\n",
            "Saving U09_Acc_TimeD_FreqD_FDay.csv to U09_Acc_TimeD_FreqD_FDay.csv\n",
            "Saving U09_Acc_TimeD_FreqD_MDay.csv to U09_Acc_TimeD_FreqD_MDay.csv\n",
            "Saving U09_Acc_TimeD_MDay.csv to U09_Acc_TimeD_MDay.csv\n",
            "Saving U10_Acc_FreqD_FDay.csv to U10_Acc_FreqD_FDay.csv\n",
            "Saving U10_Acc_FreqD_MDay.csv to U10_Acc_FreqD_MDay.csv\n",
            "Saving U10_Acc_TimeD_FDay.csv to U10_Acc_TimeD_FDay.csv\n",
            "Saving U10_Acc_TimeD_FreqD_FDay.csv to U10_Acc_TimeD_FreqD_FDay.csv\n",
            "Saving U10_Acc_TimeD_FreqD_MDay.csv to U10_Acc_TimeD_FreqD_MDay.csv\n",
            "Saving U10_Acc_TimeD_MDay.csv to U10_Acc_TimeD_MDay.csv\n",
            "Saving U01_Acc_FreqD_FDay.csv to U01_Acc_FreqD_FDay.csv\n",
            "Saving U01_Acc_FreqD_MDay.csv to U01_Acc_FreqD_MDay.csv\n",
            "Saving U01_Acc_TimeD_FDay.csv to U01_Acc_TimeD_FDay.csv\n",
            "Saving U01_Acc_TimeD_FreqD_FDay.csv to U01_Acc_TimeD_FreqD_FDay.csv\n",
            "Saving U01_Acc_TimeD_FreqD_MDay.csv to U01_Acc_TimeD_FreqD_MDay.csv\n",
            "Saving U01_Acc_TimeD_MDay.csv to U01_Acc_TimeD_MDay.csv\n",
            "Saving U02_Acc_FreqD_FDay.csv to U02_Acc_FreqD_FDay.csv\n",
            "Saving U02_Acc_FreqD_MDay.csv to U02_Acc_FreqD_MDay.csv\n",
            "Saving U02_Acc_TimeD_FDay.csv to U02_Acc_TimeD_FDay.csv\n",
            "Saving U02_Acc_TimeD_FreqD_FDay.csv to U02_Acc_TimeD_FreqD_FDay.csv\n",
            "Saving U02_Acc_TimeD_FreqD_MDay.csv to U02_Acc_TimeD_FreqD_MDay.csv\n",
            "Saving U02_Acc_TimeD_MDay.csv to U02_Acc_TimeD_MDay.csv\n",
            "Saving U03_Acc_FreqD_FDay.csv to U03_Acc_FreqD_FDay.csv\n",
            "Saving U03_Acc_FreqD_MDay.csv to U03_Acc_FreqD_MDay.csv\n",
            "Saving U03_Acc_TimeD_FDay.csv to U03_Acc_TimeD_FDay.csv\n",
            "Saving U03_Acc_TimeD_FreqD_FDay.csv to U03_Acc_TimeD_FreqD_FDay.csv\n",
            "Saving U03_Acc_TimeD_FreqD_MDay.csv to U03_Acc_TimeD_FreqD_MDay.csv\n",
            "Saving U03_Acc_TimeD_MDay.csv to U03_Acc_TimeD_MDay.csv\n",
            "Saving U04_Acc_FreqD_FDay.csv to U04_Acc_FreqD_FDay.csv\n",
            "Saving U04_Acc_FreqD_MDay.csv to U04_Acc_FreqD_MDay.csv\n",
            "Saving U04_Acc_TimeD_FDay.csv to U04_Acc_TimeD_FDay.csv\n",
            "Saving U04_Acc_TimeD_FreqD_FDay.csv to U04_Acc_TimeD_FreqD_FDay.csv\n",
            "Saving U04_Acc_TimeD_FreqD_MDay.csv to U04_Acc_TimeD_FreqD_MDay.csv\n",
            "Saving U04_Acc_TimeD_MDay.csv to U04_Acc_TimeD_MDay.csv\n",
            "Saving U05_Acc_FreqD_FDay.csv to U05_Acc_FreqD_FDay.csv\n",
            "Saving U05_Acc_FreqD_MDay.csv to U05_Acc_FreqD_MDay.csv\n",
            "Saving U05_Acc_TimeD_FDay.csv to U05_Acc_TimeD_FDay.csv\n",
            "Saving U05_Acc_TimeD_FreqD_FDay.csv to U05_Acc_TimeD_FreqD_FDay.csv\n",
            "Saving U05_Acc_TimeD_FreqD_MDay.csv to U05_Acc_TimeD_FreqD_MDay.csv\n",
            "Saving U05_Acc_TimeD_MDay.csv to U05_Acc_TimeD_MDay.csv\n",
            "Saving U06_Acc_FreqD_FDay.csv to U06_Acc_FreqD_FDay.csv\n",
            "Saving U06_Acc_FreqD_MDay.csv to U06_Acc_FreqD_MDay.csv\n"
          ]
        }
      ]
    },
    {
      "cell_type": "code",
      "source": [
        "#spliting imported files\n",
        "uploaded_train_FD = [\n",
        "    \"U01_Acc_FreqD_FDay.csv\",\n",
        "    \"U02_Acc_FreqD_FDay.csv\",\n",
        "    \"U03_Acc_FreqD_FDay.csv\",\n",
        "    \"U04_Acc_FreqD_FDay.csv\",\n",
        "    \"U05_Acc_FreqD_FDay.csv\",\n",
        "    \"U06_Acc_FreqD_FDay.csv\",\n",
        "    \"U07_Acc_FreqD_FDay.csv\",\n",
        "    \"U08_Acc_FreqD_FDay.csv\",\n",
        "    \"U09_Acc_FreqD_FDay.csv\"\n",
        "    # \"U10_Acc_FreqD_FDay.csv\"\n",
        "]\n",
        "uploaded_train_TD=[\n",
        "    \"U01_Acc_TimeD_FDay.csv\",\n",
        "    \"U02_Acc_TimeD_FDay.csv\",\n",
        "    \"U03_Acc_TimeD_FDay.csv\",\n",
        "    \"U04_Acc_TimeD_FDay.csv\",\n",
        "    \"U05_Acc_TimeD_FDay.csv\",\n",
        "    \"U06_Acc_TimeD_FDay.csv\",\n",
        "    \"U07_Acc_TimeD_FDay.csv\",\n",
        "    \"U08_Acc_TimeD_FDay.csv\",\n",
        "    \"U09_Acc_TimeD_FDay.csv\"\n",
        "    # \"U10_Acc_TimeD_FDay.csv\"\n",
        "]\n",
        "uploaded_test_FD = [\n",
        "    \"U01_Acc_FreqD_MDay.csv\",\n",
        "    \"U02_Acc_FreqD_MDay.csv\",\n",
        "    \"U03_Acc_FreqD_MDay.csv\",\n",
        "    \"U04_Acc_FreqD_MDay.csv\",\n",
        "    \"U05_Acc_FreqD_MDay.csv\",\n",
        "    \"U06_Acc_FreqD_MDay.csv\",\n",
        "    \"U07_Acc_FreqD_MDay.csv\",\n",
        "    \"U08_Acc_FreqD_MDay.csv\",\n",
        "    \"U09_Acc_FreqD_MDay.csv\",\n",
        "    # \"U10_Acc_FreqD_MDay.csv\"\n",
        "]\n",
        "uploaded_test_TD = [\n",
        "    \"U01_Acc_TimeD_MDay.csv\",\n",
        "    \"U02_Acc_TimeD_MDay.csv\",\n",
        "    \"U03_Acc_TimeD_MDay.csv\",\n",
        "    \"U04_Acc_TimeD_MDay.csv\",\n",
        "    \"U05_Acc_TimeD_MDay.csv\",\n",
        "    \"U06_Acc_TimeD_MDay.csv\",\n",
        "    \"U07_Acc_TimeD_MDay.csv\",\n",
        "    \"U08_Acc_TimeD_MDay.csv\",\n",
        "    \"U09_Acc_TimeD_MDay.csv\",\n",
        "    # \"U10_Acc_TimeD_MDay.csv\"\n",
        "]\n"
      ],
      "metadata": {
        "id": "A7s4K-CSfYY5"
      },
      "execution_count": null,
      "outputs": []
    },
    {
      "cell_type": "code",
      "source": [
        "global_pooling = tf.keras.layers.GlobalAveragePooling1D()\n",
        "\n",
        "train_FreqData = []\n",
        "train_TimeData = []\n",
        "val_FreqData = []\n",
        "val_TimeData = []\n",
        "test_FreqData = []\n",
        "test_TimeData = []\n",
        "\n",
        "for f in uploaded_train_FD:\n",
        "    df = pd.read_csv(f)\n",
        "\n",
        "    train_df = df.iloc[:20]\n",
        "    val_df = df.iloc[20:]\n",
        "\n",
        "    train_tensor = tf.convert_to_tensor(train_df, dtype=tf.float32)\n",
        "    train_tensor = tf.expand_dims(train_tensor, axis=0)\n",
        "    train_pooled = global_pooling(train_tensor)\n",
        "    train_FreqData.append(train_pooled)\n",
        "\n",
        "    val_tensor = tf.convert_to_tensor(val_df, dtype=tf.float32)\n",
        "    val_tensor = tf.expand_dims(val_tensor, axis=0)\n",
        "    val_pooled = global_pooling(val_tensor)\n",
        "    val_FreqData.append(val_pooled)\n",
        "\n",
        "for f in uploaded_train_TD:\n",
        "\n",
        "    df = pd.read_csv(f)\n",
        "\n",
        "    train_df = df.iloc[:20]\n",
        "    val_df = df.iloc[20:]\n",
        "\n",
        "    train_tensor = tf.convert_to_tensor(train_df, dtype=tf.float32)\n",
        "    train_tensor = tf.expand_dims(train_tensor, axis=0)\n",
        "    train_pooled = global_pooling(train_tensor)\n",
        "    train_TimeData.append(train_pooled)\n",
        "\n",
        "    val_tensor = tf.convert_to_tensor(val_df, dtype=tf.float32)\n",
        "    val_tensor = tf.expand_dims(val_tensor, axis=0)\n",
        "    val_pooled = global_pooling(val_tensor)\n",
        "    val_TimeData.append(val_pooled)\n",
        "\n",
        "for f in uploaded_test_FD:\n",
        "    df = pd.read_csv(f)\n",
        "    data_tensor = tf.convert_to_tensor(df, dtype=tf.float32)\n",
        "    data_tensor = tf.expand_dims(data_tensor, axis=0)\n",
        "    pooled = global_pooling(data_tensor)\n",
        "    test_FreqData.append(pooled)\n",
        "\n",
        "for f in uploaded_test_TD:\n",
        "    df = pd.read_csv(f)\n",
        "    data_tensor = tf.convert_to_tensor(df, dtype=tf.float32)\n",
        "    data_tensor = tf.expand_dims(data_tensor, axis=0)\n",
        "    pooled = global_pooling(data_tensor)\n",
        "    test_TimeData.append(pooled)\n",
        "\n",
        "trainF = np.stack(train_FreqData)\n",
        "trainT = np.stack(train_TimeData)\n",
        "valF = np.stack(val_FreqData)\n",
        "valT = np.stack(val_TimeData)\n",
        "testF = np.stack(test_FreqData)\n",
        "testT = np.stack(test_TimeData)\n",
        "\n",
        "xtrain_FD = tf.convert_to_tensor(trainF)\n",
        "xtrain_TD = tf.convert_to_tensor(trainT)\n",
        "xval_FD = tf.convert_to_tensor(valF)\n",
        "xval_TD = tf.convert_to_tensor(valT)\n",
        "xtest_FD = tf.convert_to_tensor(testF)\n",
        "xtest_TD = tf.convert_to_tensor(testT)\n"
      ],
      "metadata": {
        "id": "MboNAnE6fti6"
      },
      "execution_count": null,
      "outputs": []
    },
    {
      "cell_type": "code",
      "source": [
        "xtrain_FD_squeezed = tf.squeeze(xtrain_FD, axis=1)\n",
        "xtest_FD_squeezed= tf.squeeze(xtest_FD, axis=1)\n",
        "xval_FD_squeezed = tf.squeeze(xval_FD, axis=1)\n",
        "xval_TD_squeezed = tf.squeeze(xval_TD, axis=1)\n",
        "xtrain_TD_squeezed = tf.squeeze(xtrain_TD, axis=1)\n",
        "xtest_TD_squeezed = tf.squeeze(xtest_TD, axis=1)"
      ],
      "metadata": {
        "id": "x8MTYIp1sXeM"
      },
      "execution_count": null,
      "outputs": []
    },
    {
      "cell_type": "code",
      "source": [
        "xtest_FD_squeezed.shape"
      ],
      "metadata": {
        "colab": {
          "base_uri": "https://localhost:8080/"
        },
        "id": "13x6khDPnVya",
        "outputId": "a2e811fa-148c-41a0-81ac-1478610cecef"
      },
      "execution_count": null,
      "outputs": [
        {
          "output_type": "execute_result",
          "data": {
            "text/plain": [
              "TensorShape([10, 43])"
            ]
          },
          "metadata": {},
          "execution_count": 6
        }
      ]
    },
    {
      "cell_type": "code",
      "source": [
        "ytrain = tf.constant([1, 0, 0, 0, 0, 0, 0, 0, 0])\n",
        "ytest = tf.constant([1, 0, 0, 0, 0, 0, 0, 0, 0])\n",
        "\n",
        "ytrain_indices = ytrain.numpy()\n",
        "ytest_indices = ytest.numpy()\n",
        "\n",
        "ytrain = tf.keras.utils.to_categorical(ytrain_indices, num_classes=2)\n",
        "ytest = tf.keras.utils.to_categorical(ytest_indices, num_classes=2)\n",
        "print(ytrain)\n"
      ],
      "metadata": {
        "id": "CUiJvMSPpgSY",
        "colab": {
          "base_uri": "https://localhost:8080/"
        },
        "outputId": "d6d017f2-cbcb-4585-e118-6be61cb36d50"
      },
      "execution_count": null,
      "outputs": [
        {
          "output_type": "stream",
          "name": "stdout",
          "text": [
            "[[0. 1.]\n",
            " [1. 0.]\n",
            " [1. 0.]\n",
            " [1. 0.]\n",
            " [1. 0.]\n",
            " [1. 0.]\n",
            " [1. 0.]\n",
            " [1. 0.]\n",
            " [1. 0.]]\n"
          ]
        }
      ]
    },
    {
      "cell_type": "code",
      "source": [
        "ytrain.shape"
      ],
      "metadata": {
        "colab": {
          "base_uri": "https://localhost:8080/"
        },
        "id": "XiFODgJQ9cYU",
        "outputId": "e4961281-3a81-48d6-f7aa-c0e1b06c0cee"
      },
      "execution_count": null,
      "outputs": [
        {
          "output_type": "execute_result",
          "data": {
            "text/plain": [
              "(10, 2)"
            ]
          },
          "metadata": {},
          "execution_count": 22
        }
      ]
    },
    {
      "cell_type": "code",
      "source": [
        "model_FreqD = keras.Input(shape=(43,))\n",
        "X1 = tf.keras.layers.Dense(64, activation='relu', kernel_regularizer=tf.keras.regularizers.l2(0.001))(model_FreqD)\n",
        "X1 = tf.keras.layers.BatchNormalization()(X1)\n",
        "X1 = tf.keras.layers.Dropout(0.4)(X1)\n",
        "X1 = tf.keras.layers.Dense(32, activation='relu', kernel_regularizer=tf.keras.regularizers.l2(0.001))(X1)\n",
        "X1 = tf.keras.layers.Dropout(0.3)(X1)\n",
        "\n",
        "model_TimeD = keras.Input(shape=(88,))\n",
        "X2 = tf.keras.layers.Dense(64, activation='relu', kernel_regularizer=tf.keras.regularizers.l2(0.001))(model_TimeD)\n",
        "X2 = tf.keras.layers.BatchNormalization()(X2)\n",
        "X2 = tf.keras.layers.Dropout(0.4)(X2)\n",
        "X2 = tf.keras.layers.Dense(32, activation='relu', kernel_regularizer=tf.keras.regularizers.l2(0.001))(X2)\n",
        "X2 = tf.keras.layers.Dropout(0.3)(X2)\n",
        "\n",
        "\n",
        "merged = tf.keras.layers.concatenate([X1, X2])\n",
        "X = tf.keras.layers.Dense(64, activation='relu', kernel_regularizer=tf.keras.regularizers.l2(0.001))(merged)\n",
        "X = tf.keras.layers.BatchNormalization()(X)\n",
        "X = tf.keras.layers.Dropout(0.4)(X)\n",
        "X = tf.keras.layers.Dense(32, activation='relu', kernel_regularizer=tf.keras.regularizers.l2(0.001))(X)\n",
        "X = tf.keras.layers.Dropout(0.3)(X)\n",
        "X = tf.keras.layers.Dense(16, activation='relu', kernel_regularizer=tf.keras.regularizers.l1(0.001))(X)\n",
        "output = tf.keras.layers.Dense(2, activation='softmax')(X)\n",
        "\n",
        "model = keras.Model(inputs=[model_FreqD, model_TimeD], outputs=output)"
      ],
      "metadata": {
        "id": "t-a2z-QazpfX"
      },
      "execution_count": null,
      "outputs": []
    },
    {
      "cell_type": "code",
      "source": [
        "output.shape"
      ],
      "metadata": {
        "colab": {
          "base_uri": "https://localhost:8080/"
        },
        "id": "vMPtRoRNrtfd",
        "outputId": "8a4c064d-81cc-4fdb-c218-50bcfb03308a"
      },
      "execution_count": null,
      "outputs": [
        {
          "output_type": "execute_result",
          "data": {
            "text/plain": [
              "(None, 2)"
            ]
          },
          "metadata": {},
          "execution_count": 91
        }
      ]
    },
    {
      "cell_type": "code",
      "source": [
        "model_final = tf.keras.Model(inputs=[model_FreqD, model_TimeD], outputs=output)\n",
        "learning_rate = 1e-2\n",
        "optimizer = Adam(learning_rate=learning_rate)\n",
        "model_final.compile(optimizer=optimizer, loss=\"categorical_crossentropy\", metrics=[\"accuracy\"])"
      ],
      "metadata": {
        "id": "D0PSrJB5rzIA"
      },
      "execution_count": null,
      "outputs": []
    },
    {
      "cell_type": "code",
      "source": [
        "history = model_final.fit([xtrain_FD_squeezed, xtrain_TD_squeezed], ytrain, epochs=100, validation_data=([xval_FD_squeezed, xval_TD_squeezed], ytrain))"
      ],
      "metadata": {
        "colab": {
          "base_uri": "https://localhost:8080/"
        },
        "id": "SVmRLXidr7Dv",
        "outputId": "d9754747-4a64-4f89-bbd4-460cf25a80be"
      },
      "execution_count": null,
      "outputs": [
        {
          "output_type": "stream",
          "name": "stdout",
          "text": [
            "Epoch 1/100\n",
            "\u001b[1m1/1\u001b[0m \u001b[32m━━━━━━━━━━━━━━━━━━━━\u001b[0m\u001b[37m\u001b[0m \u001b[1m0s\u001b[0m 157ms/step - accuracy: 1.0000 - loss: 0.2666 - val_accuracy: 0.8889 - val_loss: 0.9615\n",
            "Epoch 2/100\n",
            "\u001b[1m1/1\u001b[0m \u001b[32m━━━━━━━━━━━━━━━━━━━━\u001b[0m\u001b[37m\u001b[0m \u001b[1m0s\u001b[0m 83ms/step - accuracy: 1.0000 - loss: 0.2794 - val_accuracy: 0.8889 - val_loss: 0.9495\n",
            "Epoch 3/100\n",
            "\u001b[1m1/1\u001b[0m \u001b[32m━━━━━━━━━━━━━━━━━━━━\u001b[0m\u001b[37m\u001b[0m \u001b[1m0s\u001b[0m 119ms/step - accuracy: 1.0000 - loss: 0.2672 - val_accuracy: 0.8889 - val_loss: 0.9361\n",
            "Epoch 4/100\n",
            "\u001b[1m1/1\u001b[0m \u001b[32m━━━━━━━━━━━━━━━━━━━━\u001b[0m\u001b[37m\u001b[0m \u001b[1m0s\u001b[0m 78ms/step - accuracy: 1.0000 - loss: 0.2640 - val_accuracy: 0.8889 - val_loss: 0.9238\n",
            "Epoch 5/100\n",
            "\u001b[1m1/1\u001b[0m \u001b[32m━━━━━━━━━━━━━━━━━━━━\u001b[0m\u001b[37m\u001b[0m \u001b[1m0s\u001b[0m 57ms/step - accuracy: 1.0000 - loss: 0.2640 - val_accuracy: 0.8889 - val_loss: 0.9149\n",
            "Epoch 6/100\n",
            "\u001b[1m1/1\u001b[0m \u001b[32m━━━━━━━━━━━━━━━━━━━━\u001b[0m\u001b[37m\u001b[0m \u001b[1m0s\u001b[0m 56ms/step - accuracy: 1.0000 - loss: 0.2755 - val_accuracy: 0.8889 - val_loss: 0.9046\n",
            "Epoch 7/100\n",
            "\u001b[1m1/1\u001b[0m \u001b[32m━━━━━━━━━━━━━━━━━━━━\u001b[0m\u001b[37m\u001b[0m \u001b[1m0s\u001b[0m 58ms/step - accuracy: 1.0000 - loss: 0.2909 - val_accuracy: 0.8889 - val_loss: 0.8938\n",
            "Epoch 8/100\n",
            "\u001b[1m1/1\u001b[0m \u001b[32m━━━━━━━━━━━━━━━━━━━━\u001b[0m\u001b[37m\u001b[0m \u001b[1m0s\u001b[0m 55ms/step - accuracy: 1.0000 - loss: 0.2617 - val_accuracy: 0.8889 - val_loss: 0.8837\n",
            "Epoch 9/100\n",
            "\u001b[1m1/1\u001b[0m \u001b[32m━━━━━━━━━━━━━━━━━━━━\u001b[0m\u001b[37m\u001b[0m \u001b[1m0s\u001b[0m 57ms/step - accuracy: 1.0000 - loss: 0.2608 - val_accuracy: 0.8889 - val_loss: 0.8778\n",
            "Epoch 10/100\n",
            "\u001b[1m1/1\u001b[0m \u001b[32m━━━━━━━━━━━━━━━━━━━━\u001b[0m\u001b[37m\u001b[0m \u001b[1m0s\u001b[0m 59ms/step - accuracy: 1.0000 - loss: 0.2612 - val_accuracy: 0.8889 - val_loss: 0.8676\n",
            "Epoch 11/100\n",
            "\u001b[1m1/1\u001b[0m \u001b[32m━━━━━━━━━━━━━━━━━━━━\u001b[0m\u001b[37m\u001b[0m \u001b[1m0s\u001b[0m 133ms/step - accuracy: 1.0000 - loss: 0.2592 - val_accuracy: 0.8889 - val_loss: 0.8586\n",
            "Epoch 12/100\n",
            "\u001b[1m1/1\u001b[0m \u001b[32m━━━━━━━━━━━━━━━━━━━━\u001b[0m\u001b[37m\u001b[0m \u001b[1m0s\u001b[0m 54ms/step - accuracy: 1.0000 - loss: 0.2779 - val_accuracy: 0.8889 - val_loss: 0.8518\n",
            "Epoch 13/100\n",
            "\u001b[1m1/1\u001b[0m \u001b[32m━━━━━━━━━━━━━━━━━━━━\u001b[0m\u001b[37m\u001b[0m \u001b[1m0s\u001b[0m 54ms/step - accuracy: 1.0000 - loss: 0.2575 - val_accuracy: 0.8889 - val_loss: 0.8449\n",
            "Epoch 14/100\n",
            "\u001b[1m1/1\u001b[0m \u001b[32m━━━━━━━━━━━━━━━━━━━━\u001b[0m\u001b[37m\u001b[0m \u001b[1m0s\u001b[0m 64ms/step - accuracy: 1.0000 - loss: 0.2574 - val_accuracy: 0.8889 - val_loss: 0.8393\n",
            "Epoch 15/100\n",
            "\u001b[1m1/1\u001b[0m \u001b[32m━━━━━━━━━━━━━━━━━━━━\u001b[0m\u001b[37m\u001b[0m \u001b[1m0s\u001b[0m 134ms/step - accuracy: 1.0000 - loss: 0.2566 - val_accuracy: 0.8889 - val_loss: 0.8341\n",
            "Epoch 16/100\n",
            "\u001b[1m1/1\u001b[0m \u001b[32m━━━━━━━━━━━━━━━━━━━━\u001b[0m\u001b[37m\u001b[0m \u001b[1m0s\u001b[0m 54ms/step - accuracy: 1.0000 - loss: 0.2617 - val_accuracy: 0.8889 - val_loss: 0.8280\n",
            "Epoch 17/100\n",
            "\u001b[1m1/1\u001b[0m \u001b[32m━━━━━━━━━━━━━━━━━━━━\u001b[0m\u001b[37m\u001b[0m \u001b[1m0s\u001b[0m 84ms/step - accuracy: 1.0000 - loss: 0.2549 - val_accuracy: 0.8889 - val_loss: 0.8196\n",
            "Epoch 18/100\n",
            "\u001b[1m1/1\u001b[0m \u001b[32m━━━━━━━━━━━━━━━━━━━━\u001b[0m\u001b[37m\u001b[0m \u001b[1m0s\u001b[0m 117ms/step - accuracy: 1.0000 - loss: 0.2570 - val_accuracy: 0.8889 - val_loss: 0.8105\n",
            "Epoch 19/100\n",
            "\u001b[1m1/1\u001b[0m \u001b[32m━━━━━━━━━━━━━━━━━━━━\u001b[0m\u001b[37m\u001b[0m \u001b[1m0s\u001b[0m 63ms/step - accuracy: 1.0000 - loss: 0.2536 - val_accuracy: 0.8889 - val_loss: 0.8075\n",
            "Epoch 20/100\n",
            "\u001b[1m1/1\u001b[0m \u001b[32m━━━━━━━━━━━━━━━━━━━━\u001b[0m\u001b[37m\u001b[0m \u001b[1m0s\u001b[0m 52ms/step - accuracy: 1.0000 - loss: 0.2633 - val_accuracy: 0.8889 - val_loss: 0.7982\n",
            "Epoch 21/100\n",
            "\u001b[1m1/1\u001b[0m \u001b[32m━━━━━━━━━━━━━━━━━━━━\u001b[0m\u001b[37m\u001b[0m \u001b[1m0s\u001b[0m 59ms/step - accuracy: 1.0000 - loss: 0.2932 - val_accuracy: 0.8889 - val_loss: 0.7923\n",
            "Epoch 22/100\n",
            "\u001b[1m1/1\u001b[0m \u001b[32m━━━━━━━━━━━━━━━━━━━━\u001b[0m\u001b[37m\u001b[0m \u001b[1m0s\u001b[0m 59ms/step - accuracy: 1.0000 - loss: 0.2736 - val_accuracy: 0.8889 - val_loss: 0.7864\n",
            "Epoch 23/100\n",
            "\u001b[1m1/1\u001b[0m \u001b[32m━━━━━━━━━━━━━━━━━━━━\u001b[0m\u001b[37m\u001b[0m \u001b[1m0s\u001b[0m 135ms/step - accuracy: 1.0000 - loss: 0.2507 - val_accuracy: 0.8889 - val_loss: 0.7790\n",
            "Epoch 24/100\n",
            "\u001b[1m1/1\u001b[0m \u001b[32m━━━━━━━━━━━━━━━━━━━━\u001b[0m\u001b[37m\u001b[0m \u001b[1m0s\u001b[0m 57ms/step - accuracy: 1.0000 - loss: 0.2501 - val_accuracy: 0.8889 - val_loss: 0.7734\n",
            "Epoch 25/100\n",
            "\u001b[1m1/1\u001b[0m \u001b[32m━━━━━━━━━━━━━━━━━━━━\u001b[0m\u001b[37m\u001b[0m \u001b[1m0s\u001b[0m 56ms/step - accuracy: 1.0000 - loss: 0.2482 - val_accuracy: 0.8889 - val_loss: 0.7653\n",
            "Epoch 26/100\n",
            "\u001b[1m1/1\u001b[0m \u001b[32m━━━━━━━━━━━━━━━━━━━━\u001b[0m\u001b[37m\u001b[0m \u001b[1m0s\u001b[0m 62ms/step - accuracy: 1.0000 - loss: 0.2508 - val_accuracy: 0.8889 - val_loss: 0.7555\n",
            "Epoch 27/100\n",
            "\u001b[1m1/1\u001b[0m \u001b[32m━━━━━━━━━━━━━━━━━━━━\u001b[0m\u001b[37m\u001b[0m \u001b[1m0s\u001b[0m 136ms/step - accuracy: 1.0000 - loss: 0.2467 - val_accuracy: 0.8889 - val_loss: 0.7477\n",
            "Epoch 28/100\n",
            "\u001b[1m1/1\u001b[0m \u001b[32m━━━━━━━━━━━━━━━━━━━━\u001b[0m\u001b[37m\u001b[0m \u001b[1m0s\u001b[0m 60ms/step - accuracy: 0.8889 - loss: 0.5713 - val_accuracy: 0.8889 - val_loss: 0.7334\n",
            "Epoch 29/100\n",
            "\u001b[1m1/1\u001b[0m \u001b[32m━━━━━━━━━━━━━━━━━━━━\u001b[0m\u001b[37m\u001b[0m \u001b[1m0s\u001b[0m 101ms/step - accuracy: 1.0000 - loss: 0.2652 - val_accuracy: 0.8889 - val_loss: 0.7534\n",
            "Epoch 30/100\n",
            "\u001b[1m1/1\u001b[0m \u001b[32m━━━━━━━━━━━━━━━━━━━━\u001b[0m\u001b[37m\u001b[0m \u001b[1m0s\u001b[0m 98ms/step - accuracy: 1.0000 - loss: 0.2451 - val_accuracy: 0.8889 - val_loss: 0.7717\n",
            "Epoch 31/100\n",
            "\u001b[1m1/1\u001b[0m \u001b[32m━━━━━━━━━━━━━━━━━━━━\u001b[0m\u001b[37m\u001b[0m \u001b[1m0s\u001b[0m 56ms/step - accuracy: 1.0000 - loss: 0.2438 - val_accuracy: 0.8889 - val_loss: 0.7975\n",
            "Epoch 32/100\n",
            "\u001b[1m1/1\u001b[0m \u001b[32m━━━━━━━━━━━━━━━━━━━━\u001b[0m\u001b[37m\u001b[0m \u001b[1m0s\u001b[0m 54ms/step - accuracy: 1.0000 - loss: 0.2435 - val_accuracy: 0.8889 - val_loss: 0.8278\n",
            "Epoch 33/100\n",
            "\u001b[1m1/1\u001b[0m \u001b[32m━━━━━━━━━━━━━━━━━━━━\u001b[0m\u001b[37m\u001b[0m \u001b[1m0s\u001b[0m 60ms/step - accuracy: 1.0000 - loss: 0.2429 - val_accuracy: 0.8889 - val_loss: 0.8505\n",
            "Epoch 34/100\n",
            "\u001b[1m1/1\u001b[0m \u001b[32m━━━━━━━━━━━━━━━━━━━━\u001b[0m\u001b[37m\u001b[0m \u001b[1m0s\u001b[0m 58ms/step - accuracy: 1.0000 - loss: 0.2535 - val_accuracy: 0.8889 - val_loss: 0.8675\n",
            "Epoch 35/100\n",
            "\u001b[1m1/1\u001b[0m \u001b[32m━━━━━━━━━━━━━━━━━━━━\u001b[0m\u001b[37m\u001b[0m \u001b[1m0s\u001b[0m 52ms/step - accuracy: 1.0000 - loss: 0.2429 - val_accuracy: 0.8889 - val_loss: 0.8777\n",
            "Epoch 36/100\n",
            "\u001b[1m1/1\u001b[0m \u001b[32m━━━━━━━━━━━━━━━━━━━━\u001b[0m\u001b[37m\u001b[0m \u001b[1m0s\u001b[0m 59ms/step - accuracy: 0.8889 - loss: 0.4008 - val_accuracy: 0.8889 - val_loss: 0.8999\n",
            "Epoch 37/100\n",
            "\u001b[1m1/1\u001b[0m \u001b[32m━━━━━━━━━━━━━━━━━━━━\u001b[0m\u001b[37m\u001b[0m \u001b[1m0s\u001b[0m 56ms/step - accuracy: 1.0000 - loss: 0.2419 - val_accuracy: 0.8889 - val_loss: 0.9200\n",
            "Epoch 38/100\n",
            "\u001b[1m1/1\u001b[0m \u001b[32m━━━━━━━━━━━━━━━━━━━━\u001b[0m\u001b[37m\u001b[0m \u001b[1m0s\u001b[0m 57ms/step - accuracy: 1.0000 - loss: 0.2417 - val_accuracy: 0.8889 - val_loss: 0.9379\n",
            "Epoch 39/100\n",
            "\u001b[1m1/1\u001b[0m \u001b[32m━━━━━━━━━━━━━━━━━━━━\u001b[0m\u001b[37m\u001b[0m \u001b[1m0s\u001b[0m 60ms/step - accuracy: 0.8889 - loss: 0.4273 - val_accuracy: 0.8889 - val_loss: 0.9190\n",
            "Epoch 40/100\n",
            "\u001b[1m1/1\u001b[0m \u001b[32m━━━━━━━━━━━━━━━━━━━━\u001b[0m\u001b[37m\u001b[0m \u001b[1m0s\u001b[0m 55ms/step - accuracy: 1.0000 - loss: 0.2447 - val_accuracy: 0.8889 - val_loss: 0.8978\n",
            "Epoch 41/100\n",
            "\u001b[1m1/1\u001b[0m \u001b[32m━━━━━━━━━━━━━━━━━━━━\u001b[0m\u001b[37m\u001b[0m \u001b[1m0s\u001b[0m 58ms/step - accuracy: 0.8889 - loss: 0.3210 - val_accuracy: 0.8889 - val_loss: 0.8547\n",
            "Epoch 42/100\n",
            "\u001b[1m1/1\u001b[0m \u001b[32m━━━━━━━━━━━━━━━━━━━━\u001b[0m\u001b[37m\u001b[0m \u001b[1m0s\u001b[0m 53ms/step - accuracy: 1.0000 - loss: 0.2469 - val_accuracy: 0.8889 - val_loss: 0.8182\n",
            "Epoch 43/100\n",
            "\u001b[1m1/1\u001b[0m \u001b[32m━━━━━━━━━━━━━━━━━━━━\u001b[0m\u001b[37m\u001b[0m \u001b[1m0s\u001b[0m 53ms/step - accuracy: 1.0000 - loss: 0.2424 - val_accuracy: 0.8889 - val_loss: 0.7805\n",
            "Epoch 44/100\n",
            "\u001b[1m1/1\u001b[0m \u001b[32m━━━━━━━━━━━━━━━━━━━━\u001b[0m\u001b[37m\u001b[0m \u001b[1m0s\u001b[0m 148ms/step - accuracy: 1.0000 - loss: 0.2428 - val_accuracy: 0.8889 - val_loss: 0.7507\n",
            "Epoch 45/100\n",
            "\u001b[1m1/1\u001b[0m \u001b[32m━━━━━━━━━━━━━━━━━━━━\u001b[0m\u001b[37m\u001b[0m \u001b[1m0s\u001b[0m 60ms/step - accuracy: 1.0000 - loss: 0.2546 - val_accuracy: 0.8889 - val_loss: 0.7229\n",
            "Epoch 46/100\n",
            "\u001b[1m1/1\u001b[0m \u001b[32m━━━━━━━━━━━━━━━━━━━━\u001b[0m\u001b[37m\u001b[0m \u001b[1m0s\u001b[0m 55ms/step - accuracy: 1.0000 - loss: 0.2409 - val_accuracy: 0.8889 - val_loss: 0.7028\n",
            "Epoch 47/100\n",
            "\u001b[1m1/1\u001b[0m \u001b[32m━━━━━━━━━━━━━━━━━━━━\u001b[0m\u001b[37m\u001b[0m \u001b[1m0s\u001b[0m 53ms/step - accuracy: 1.0000 - loss: 0.2444 - val_accuracy: 0.8889 - val_loss: 0.6819\n",
            "Epoch 48/100\n",
            "\u001b[1m1/1\u001b[0m \u001b[32m━━━━━━━━━━━━━━━━━━━━\u001b[0m\u001b[37m\u001b[0m \u001b[1m0s\u001b[0m 59ms/step - accuracy: 1.0000 - loss: 0.2585 - val_accuracy: 0.8889 - val_loss: 0.6707\n",
            "Epoch 49/100\n",
            "\u001b[1m1/1\u001b[0m \u001b[32m━━━━━━━━━━━━━━━━━━━━\u001b[0m\u001b[37m\u001b[0m \u001b[1m0s\u001b[0m 134ms/step - accuracy: 1.0000 - loss: 0.2614 - val_accuracy: 0.8889 - val_loss: 0.6522\n",
            "Epoch 50/100\n",
            "\u001b[1m1/1\u001b[0m \u001b[32m━━━━━━━━━━━━━━━━━━━━\u001b[0m\u001b[37m\u001b[0m \u001b[1m0s\u001b[0m 53ms/step - accuracy: 1.0000 - loss: 0.2382 - val_accuracy: 0.8889 - val_loss: 0.6356\n",
            "Epoch 51/100\n",
            "\u001b[1m1/1\u001b[0m \u001b[32m━━━━━━━━━━━━━━━━━━━━\u001b[0m\u001b[37m\u001b[0m \u001b[1m0s\u001b[0m 53ms/step - accuracy: 1.0000 - loss: 0.3363 - val_accuracy: 0.8889 - val_loss: 0.5742\n",
            "Epoch 52/100\n",
            "\u001b[1m1/1\u001b[0m \u001b[32m━━━━━━━━━━━━━━━━━━━━\u001b[0m\u001b[37m\u001b[0m \u001b[1m0s\u001b[0m 55ms/step - accuracy: 1.0000 - loss: 0.2644 - val_accuracy: 0.8889 - val_loss: 0.5064\n",
            "Epoch 53/100\n",
            "\u001b[1m1/1\u001b[0m \u001b[32m━━━━━━━━━━━━━━━━━━━━\u001b[0m\u001b[37m\u001b[0m \u001b[1m0s\u001b[0m 57ms/step - accuracy: 1.0000 - loss: 0.2403 - val_accuracy: 0.8889 - val_loss: 0.4374\n",
            "Epoch 54/100\n",
            "\u001b[1m1/1\u001b[0m \u001b[32m━━━━━━━━━━━━━━━━━━━━\u001b[0m\u001b[37m\u001b[0m \u001b[1m0s\u001b[0m 61ms/step - accuracy: 1.0000 - loss: 0.2393 - val_accuracy: 0.8889 - val_loss: 0.3847\n",
            "Epoch 55/100\n",
            "\u001b[1m1/1\u001b[0m \u001b[32m━━━━━━━━━━━━━━━━━━━━\u001b[0m\u001b[37m\u001b[0m \u001b[1m0s\u001b[0m 53ms/step - accuracy: 1.0000 - loss: 0.2373 - val_accuracy: 0.8889 - val_loss: 0.3465\n",
            "Epoch 56/100\n",
            "\u001b[1m1/1\u001b[0m \u001b[32m━━━━━━━━━━━━━━━━━━━━\u001b[0m\u001b[37m\u001b[0m \u001b[1m0s\u001b[0m 55ms/step - accuracy: 1.0000 - loss: 0.3001 - val_accuracy: 1.0000 - val_loss: 0.3236\n",
            "Epoch 57/100\n",
            "\u001b[1m1/1\u001b[0m \u001b[32m━━━━━━━━━━━━━━━━━━━━\u001b[0m\u001b[37m\u001b[0m \u001b[1m0s\u001b[0m 68ms/step - accuracy: 1.0000 - loss: 0.2453 - val_accuracy: 1.0000 - val_loss: 0.3104\n",
            "Epoch 58/100\n",
            "\u001b[1m1/1\u001b[0m \u001b[32m━━━━━━━━━━━━━━━━━━━━\u001b[0m\u001b[37m\u001b[0m \u001b[1m0s\u001b[0m 85ms/step - accuracy: 1.0000 - loss: 0.2970 - val_accuracy: 1.0000 - val_loss: 0.3076\n",
            "Epoch 59/100\n",
            "\u001b[1m1/1\u001b[0m \u001b[32m━━━━━━━━━━━━━━━━━━━━\u001b[0m\u001b[37m\u001b[0m \u001b[1m0s\u001b[0m 117ms/step - accuracy: 1.0000 - loss: 0.2369 - val_accuracy: 1.0000 - val_loss: 0.3038\n",
            "Epoch 60/100\n",
            "\u001b[1m1/1\u001b[0m \u001b[32m━━━━━━━━━━━━━━━━━━━━\u001b[0m\u001b[37m\u001b[0m \u001b[1m0s\u001b[0m 57ms/step - accuracy: 1.0000 - loss: 0.2369 - val_accuracy: 1.0000 - val_loss: 0.2997\n",
            "Epoch 61/100\n",
            "\u001b[1m1/1\u001b[0m \u001b[32m━━━━━━━━━━━━━━━━━━━━\u001b[0m\u001b[37m\u001b[0m \u001b[1m0s\u001b[0m 57ms/step - accuracy: 1.0000 - loss: 0.2368 - val_accuracy: 1.0000 - val_loss: 0.2961\n",
            "Epoch 62/100\n",
            "\u001b[1m1/1\u001b[0m \u001b[32m━━━━━━━━━━━━━━━━━━━━\u001b[0m\u001b[37m\u001b[0m \u001b[1m0s\u001b[0m 57ms/step - accuracy: 1.0000 - loss: 0.2363 - val_accuracy: 1.0000 - val_loss: 0.2952\n",
            "Epoch 63/100\n",
            "\u001b[1m1/1\u001b[0m \u001b[32m━━━━━━━━━━━━━━━━━━━━\u001b[0m\u001b[37m\u001b[0m \u001b[1m0s\u001b[0m 56ms/step - accuracy: 1.0000 - loss: 0.2521 - val_accuracy: 1.0000 - val_loss: 0.2918\n",
            "Epoch 64/100\n",
            "\u001b[1m1/1\u001b[0m \u001b[32m━━━━━━━━━━━━━━━━━━━━\u001b[0m\u001b[37m\u001b[0m \u001b[1m0s\u001b[0m 62ms/step - accuracy: 1.0000 - loss: 0.2396 - val_accuracy: 1.0000 - val_loss: 0.2908\n",
            "Epoch 65/100\n",
            "\u001b[1m1/1\u001b[0m \u001b[32m━━━━━━━━━━━━━━━━━━━━\u001b[0m\u001b[37m\u001b[0m \u001b[1m0s\u001b[0m 55ms/step - accuracy: 1.0000 - loss: 0.2359 - val_accuracy: 1.0000 - val_loss: 0.2916\n",
            "Epoch 66/100\n",
            "\u001b[1m1/1\u001b[0m \u001b[32m━━━━━━━━━━━━━━━━━━━━\u001b[0m\u001b[37m\u001b[0m \u001b[1m0s\u001b[0m 53ms/step - accuracy: 1.0000 - loss: 0.2356 - val_accuracy: 1.0000 - val_loss: 0.2946\n",
            "Epoch 67/100\n",
            "\u001b[1m1/1\u001b[0m \u001b[32m━━━━━━━━━━━━━━━━━━━━\u001b[0m\u001b[37m\u001b[0m \u001b[1m0s\u001b[0m 56ms/step - accuracy: 1.0000 - loss: 0.2405 - val_accuracy: 1.0000 - val_loss: 0.2953\n",
            "Epoch 68/100\n",
            "\u001b[1m1/1\u001b[0m \u001b[32m━━━━━━━━━━━━━━━━━━━━\u001b[0m\u001b[37m\u001b[0m \u001b[1m0s\u001b[0m 54ms/step - accuracy: 1.0000 - loss: 0.2348 - val_accuracy: 1.0000 - val_loss: 0.2998\n",
            "Epoch 69/100\n",
            "\u001b[1m1/1\u001b[0m \u001b[32m━━━━━━━━━━━━━━━━━━━━\u001b[0m\u001b[37m\u001b[0m \u001b[1m0s\u001b[0m 58ms/step - accuracy: 1.0000 - loss: 0.2346 - val_accuracy: 1.0000 - val_loss: 0.3015\n",
            "Epoch 70/100\n",
            "\u001b[1m1/1\u001b[0m \u001b[32m━━━━━━━━━━━━━━━━━━━━\u001b[0m\u001b[37m\u001b[0m \u001b[1m0s\u001b[0m 57ms/step - accuracy: 1.0000 - loss: 0.2348 - val_accuracy: 1.0000 - val_loss: 0.3031\n",
            "Epoch 71/100\n",
            "\u001b[1m1/1\u001b[0m \u001b[32m━━━━━━━━━━━━━━━━━━━━\u001b[0m\u001b[37m\u001b[0m \u001b[1m0s\u001b[0m 59ms/step - accuracy: 1.0000 - loss: 0.2335 - val_accuracy: 1.0000 - val_loss: 0.3047\n",
            "Epoch 72/100\n",
            "\u001b[1m1/1\u001b[0m \u001b[32m━━━━━━━━━━━━━━━━━━━━\u001b[0m\u001b[37m\u001b[0m \u001b[1m0s\u001b[0m 70ms/step - accuracy: 1.0000 - loss: 0.2329 - val_accuracy: 1.0000 - val_loss: 0.3061\n",
            "Epoch 73/100\n",
            "\u001b[1m1/1\u001b[0m \u001b[32m━━━━━━━━━━━━━━━━━━━━\u001b[0m\u001b[37m\u001b[0m \u001b[1m0s\u001b[0m 127ms/step - accuracy: 1.0000 - loss: 0.2323 - val_accuracy: 0.8889 - val_loss: 0.3155\n",
            "Epoch 74/100\n",
            "\u001b[1m1/1\u001b[0m \u001b[32m━━━━━━━━━━━━━━━━━━━━\u001b[0m\u001b[37m\u001b[0m \u001b[1m0s\u001b[0m 58ms/step - accuracy: 1.0000 - loss: 0.2587 - val_accuracy: 1.0000 - val_loss: 0.3021\n",
            "Epoch 75/100\n",
            "\u001b[1m1/1\u001b[0m \u001b[32m━━━━━━━━━━━━━━━━━━━━\u001b[0m\u001b[37m\u001b[0m \u001b[1m0s\u001b[0m 58ms/step - accuracy: 1.0000 - loss: 0.2316 - val_accuracy: 1.0000 - val_loss: 0.2938\n",
            "Epoch 76/100\n",
            "\u001b[1m1/1\u001b[0m \u001b[32m━━━━━━━━━━━━━━━━━━━━\u001b[0m\u001b[37m\u001b[0m \u001b[1m0s\u001b[0m 58ms/step - accuracy: 1.0000 - loss: 0.2308 - val_accuracy: 1.0000 - val_loss: 0.2849\n",
            "Epoch 77/100\n",
            "\u001b[1m1/1\u001b[0m \u001b[32m━━━━━━━━━━━━━━━━━━━━\u001b[0m\u001b[37m\u001b[0m \u001b[1m0s\u001b[0m 56ms/step - accuracy: 0.7778 - loss: 0.9667 - val_accuracy: 1.0000 - val_loss: 0.2639\n",
            "Epoch 78/100\n",
            "\u001b[1m1/1\u001b[0m \u001b[32m━━━━━━━━━━━━━━━━━━━━\u001b[0m\u001b[37m\u001b[0m \u001b[1m0s\u001b[0m 137ms/step - accuracy: 1.0000 - loss: 0.2345 - val_accuracy: 1.0000 - val_loss: 0.2790\n",
            "Epoch 79/100\n",
            "\u001b[1m1/1\u001b[0m \u001b[32m━━━━━━━━━━━━━━━━━━━━\u001b[0m\u001b[37m\u001b[0m \u001b[1m0s\u001b[0m 56ms/step - accuracy: 1.0000 - loss: 0.2293 - val_accuracy: 1.0000 - val_loss: 0.3146\n",
            "Epoch 80/100\n",
            "\u001b[1m1/1\u001b[0m \u001b[32m━━━━━━━━━━━━━━━━━━━━\u001b[0m\u001b[37m\u001b[0m \u001b[1m0s\u001b[0m 59ms/step - accuracy: 1.0000 - loss: 0.2291 - val_accuracy: 1.0000 - val_loss: 0.3334\n",
            "Epoch 81/100\n",
            "\u001b[1m1/1\u001b[0m \u001b[32m━━━━━━━━━━━━━━━━━━━━\u001b[0m\u001b[37m\u001b[0m \u001b[1m0s\u001b[0m 58ms/step - accuracy: 1.0000 - loss: 0.2292 - val_accuracy: 0.8889 - val_loss: 0.3529\n",
            "Epoch 82/100\n",
            "\u001b[1m1/1\u001b[0m \u001b[32m━━━━━━━━━━━━━━━━━━━━\u001b[0m\u001b[37m\u001b[0m \u001b[1m0s\u001b[0m 54ms/step - accuracy: 1.0000 - loss: 0.2299 - val_accuracy: 0.8889 - val_loss: 0.3780\n",
            "Epoch 83/100\n",
            "\u001b[1m1/1\u001b[0m \u001b[32m━━━━━━━━━━━━━━━━━━━━\u001b[0m\u001b[37m\u001b[0m \u001b[1m0s\u001b[0m 53ms/step - accuracy: 1.0000 - loss: 0.2344 - val_accuracy: 0.8889 - val_loss: 0.4139\n",
            "Epoch 84/100\n",
            "\u001b[1m1/1\u001b[0m \u001b[32m━━━━━━━━━━━━━━━━━━━━\u001b[0m\u001b[37m\u001b[0m \u001b[1m0s\u001b[0m 54ms/step - accuracy: 1.0000 - loss: 0.2305 - val_accuracy: 0.8889 - val_loss: 0.4555\n",
            "Epoch 85/100\n",
            "\u001b[1m1/1\u001b[0m \u001b[32m━━━━━━━━━━━━━━━━━━━━\u001b[0m\u001b[37m\u001b[0m \u001b[1m0s\u001b[0m 146ms/step - accuracy: 1.0000 - loss: 0.2894 - val_accuracy: 0.8889 - val_loss: 0.5129\n",
            "Epoch 86/100\n",
            "\u001b[1m1/1\u001b[0m \u001b[32m━━━━━━━━━━━━━━━━━━━━\u001b[0m\u001b[37m\u001b[0m \u001b[1m0s\u001b[0m 67ms/step - accuracy: 1.0000 - loss: 0.2300 - val_accuracy: 0.8889 - val_loss: 0.5831\n",
            "Epoch 87/100\n",
            "\u001b[1m1/1\u001b[0m \u001b[32m━━━━━━━━━━━━━━━━━━━━\u001b[0m\u001b[37m\u001b[0m \u001b[1m0s\u001b[0m 62ms/step - accuracy: 1.0000 - loss: 0.2322 - val_accuracy: 0.8889 - val_loss: 0.6351\n",
            "Epoch 88/100\n",
            "\u001b[1m1/1\u001b[0m \u001b[32m━━━━━━━━━━━━━━━━━━━━\u001b[0m\u001b[37m\u001b[0m \u001b[1m0s\u001b[0m 58ms/step - accuracy: 1.0000 - loss: 0.2617 - val_accuracy: 0.8889 - val_loss: 0.6794\n",
            "Epoch 89/100\n",
            "\u001b[1m1/1\u001b[0m \u001b[32m━━━━━━━━━━━━━━━━━━━━\u001b[0m\u001b[37m\u001b[0m \u001b[1m0s\u001b[0m 59ms/step - accuracy: 1.0000 - loss: 0.2320 - val_accuracy: 0.8889 - val_loss: 0.7294\n",
            "Epoch 90/100\n",
            "\u001b[1m1/1\u001b[0m \u001b[32m━━━━━━━━━━━━━━━━━━━━\u001b[0m\u001b[37m\u001b[0m \u001b[1m0s\u001b[0m 59ms/step - accuracy: 1.0000 - loss: 0.2299 - val_accuracy: 0.8889 - val_loss: 0.7674\n",
            "Epoch 91/100\n",
            "\u001b[1m1/1\u001b[0m \u001b[32m━━━━━━━━━━━━━━━━━━━━\u001b[0m\u001b[37m\u001b[0m \u001b[1m0s\u001b[0m 57ms/step - accuracy: 1.0000 - loss: 0.2931 - val_accuracy: 0.8889 - val_loss: 0.7827\n",
            "Epoch 92/100\n",
            "\u001b[1m1/1\u001b[0m \u001b[32m━━━━━━━━━━━━━━━━━━━━\u001b[0m\u001b[37m\u001b[0m \u001b[1m0s\u001b[0m 141ms/step - accuracy: 1.0000 - loss: 0.2349 - val_accuracy: 0.8889 - val_loss: 0.7946\n",
            "Epoch 93/100\n",
            "\u001b[1m1/1\u001b[0m \u001b[32m━━━━━━━━━━━━━━━━━━━━\u001b[0m\u001b[37m\u001b[0m \u001b[1m0s\u001b[0m 134ms/step - accuracy: 1.0000 - loss: 0.2328 - val_accuracy: 0.8889 - val_loss: 0.8064\n",
            "Epoch 94/100\n",
            "\u001b[1m1/1\u001b[0m \u001b[32m━━━━━━━━━━━━━━━━━━━━\u001b[0m\u001b[37m\u001b[0m \u001b[1m0s\u001b[0m 54ms/step - accuracy: 1.0000 - loss: 0.2474 - val_accuracy: 0.8889 - val_loss: 0.8198\n",
            "Epoch 95/100\n",
            "\u001b[1m1/1\u001b[0m \u001b[32m━━━━━━━━━━━━━━━━━━━━\u001b[0m\u001b[37m\u001b[0m \u001b[1m0s\u001b[0m 54ms/step - accuracy: 1.0000 - loss: 0.2292 - val_accuracy: 0.8889 - val_loss: 0.8295\n",
            "Epoch 96/100\n",
            "\u001b[1m1/1\u001b[0m \u001b[32m━━━━━━━━━━━━━━━━━━━━\u001b[0m\u001b[37m\u001b[0m \u001b[1m0s\u001b[0m 56ms/step - accuracy: 1.0000 - loss: 0.2288 - val_accuracy: 0.8889 - val_loss: 0.8436\n",
            "Epoch 97/100\n",
            "\u001b[1m1/1\u001b[0m \u001b[32m━━━━━━━━━━━━━━━━━━━━\u001b[0m\u001b[37m\u001b[0m \u001b[1m0s\u001b[0m 76ms/step - accuracy: 1.0000 - loss: 0.2289 - val_accuracy: 0.8889 - val_loss: 0.3929\n",
            "Epoch 98/100\n",
            "\u001b[1m1/1\u001b[0m \u001b[32m━━━━━━━━━━━━━━━━━━━━\u001b[0m\u001b[37m\u001b[0m \u001b[1m0s\u001b[0m 132ms/step - accuracy: 1.0000 - loss: 0.2301 - val_accuracy: 0.8889 - val_loss: 0.3608\n",
            "Epoch 99/100\n",
            "\u001b[1m1/1\u001b[0m \u001b[32m━━━━━━━━━━━━━━━━━━━━\u001b[0m\u001b[37m\u001b[0m \u001b[1m0s\u001b[0m 57ms/step - accuracy: 1.0000 - loss: 0.2392 - val_accuracy: 0.8889 - val_loss: 0.3583\n",
            "Epoch 100/100\n",
            "\u001b[1m1/1\u001b[0m \u001b[32m━━━━━━━━━━━━━━━━━━━━\u001b[0m\u001b[37m\u001b[0m \u001b[1m0s\u001b[0m 54ms/step - accuracy: 1.0000 - loss: 0.2301 - val_accuracy: 1.0000 - val_loss: 0.3344\n"
          ]
        }
      ]
    },
    {
      "cell_type": "code",
      "source": [
        "test_loss, test_accuracy = model_final.evaluate(\n",
        "    [xtest_FD_squeezed, xtest_TD_squeezed],\n",
        "    ytest,\n",
        ")"
      ],
      "metadata": {
        "colab": {
          "base_uri": "https://localhost:8080/"
        },
        "id": "BaJWS3f7s5el",
        "outputId": "acf9b378-9fde-4839-daa7-129fbb78d68f"
      },
      "execution_count": null,
      "outputs": [
        {
          "output_type": "stream",
          "name": "stdout",
          "text": [
            "\u001b[1m1/1\u001b[0m \u001b[32m━━━━━━━━━━━━━━━━━━━━\u001b[0m\u001b[37m\u001b[0m \u001b[1m0s\u001b[0m 42ms/step - accuracy: 0.9000 - loss: 1.0506\n"
          ]
        }
      ]
    },
    {
      "cell_type": "code",
      "source": [
        "plt.plot(history.history['loss'], label='Training Loss')\n",
        "plt.plot(history.history['val_loss'], label='Validation Loss')\n",
        "plt.xlabel('Epochs')\n",
        "plt.ylabel('Loss')\n",
        "plt.legend()\n",
        "plt.show()"
      ],
      "metadata": {
        "colab": {
          "base_uri": "https://localhost:8080/",
          "height": 453
        },
        "id": "7LqTiDV_tBcH",
        "outputId": "ee28320b-e33a-46cc-ac5d-74d753ac1a5c"
      },
      "execution_count": null,
      "outputs": [
        {
          "output_type": "display_data",
          "data": {
            "text/plain": [
              "<Figure size 640x480 with 1 Axes>"
            ],
            "image/png": "[encoded data removed]"
          },
          "metadata": {}
        }
      ]
    },
    {
      "cell_type": "code",
      "source": [
        "predictions = model_final.predict([xtest_FD_squeezed, xtest_TD_squeezed])\n",
        "prediction = np.argmax(predictions, axis=1)\n",
        "print(predictions)\n",
        "print(prediction)"
      ],
      "metadata": {
        "colab": {
          "base_uri": "https://localhost:8080/"
        },
        "id": "03ufz9XItEHh",
        "outputId": "86c78db6-6002-4a3b-defb-f6fb29a2e107"
      },
      "execution_count": null,
      "outputs": [
        {
          "output_type": "stream",
          "name": "stdout",
          "text": [
            "\u001b[1m1/1\u001b[0m \u001b[32m━━━━━━━━━━━━━━━━━━━━\u001b[0m\u001b[37m\u001b[0m \u001b[1m0s\u001b[0m 129ms/step\n",
            "[[1.5548895e-01 8.4451115e-01]\n",
            " [9.9556994e-01 4.4299904e-03]\n",
            " [9.9956101e-01 4.3896248e-04]\n",
            " [9.9999946e-01 5.2742263e-07]\n",
            " [9.9999994e-01 4.5104476e-09]\n",
            " [9.9858308e-01 1.4169053e-03]\n",
            " [9.9999470e-01 5.1925240e-06]\n",
            " [9.9995679e-01 4.3154068e-05]\n",
            " [9.9999523e-01 4.7679896e-06]]\n",
            "[1 0 0 0 0 0 0 0 0]\n"
          ]
        }
      ]
    },
    {
      "cell_type": "code",
      "source": [
        "model_final.save_weights(\"model_weights1new1.weights.h5\")"
      ],
      "metadata": {
        "id": "HhBWq2cZtW2a"
      },
      "execution_count": null,
      "outputs": []
    }
  ]
}